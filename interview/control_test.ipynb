{
 "cells": [
  {
   "cell_type": "markdown",
   "metadata": {},
   "source": [
    "# Challenge\n",
    "\n",
    "#### LTI\n",
    "Implement discrete time LTI using state space form.\n",
    "\n",
    "$\\dot{x}(t) = Ax(t) + Bu(t)\\;\\;\\;$ State equation.\n",
    "\n",
    "$y(t) = Cx(t) + Du(t)\\;\\;\\;$ Output equation."
   ]
  },
  {
   "cell_type": "code",
   "execution_count": 115,
   "metadata": {
    "collapsed": true
   },
   "outputs": [],
   "source": [
    "import numpy as np\n",
    "import matplotlib.pyplot as plt"
   ]
  },
  {
   "cell_type": "code",
   "execution_count": 26,
   "metadata": {},
   "outputs": [],
   "source": [
    "# LTI Class\n",
    "class StateSpace:\n",
    "    def __init__(self, states, inputs, outputs):\n",
    "        self.num_x = states\n",
    "        self.num_u = inputs\n",
    "        self.num_y = outputs\n",
    "        \n",
    "        self.x = np.zeros((self.num_x,1))\n",
    "        \n",
    "        self.A = np.zeros((self.num_x, self.num_x))\n",
    "        self.B = np.zeros((self.num_x, self.num_u))\n",
    "        self.C = np.zeros((self.num_y, self.num_x))\n",
    "        self.D = np.zeros((self.num_y, self.num_u))\n",
    "        \n",
    "    def run(self, u,dt):\n",
    "        x_dot = np.matmul(self.A,self.x) + np.matmul(self.B, u)\n",
    "        y = np.matmul(self.C, self.x) + np.matmul(self.D, u)\n",
    "        \n",
    "        self.x = x_dot*dt\n",
    "        return y"
   ]
  },
  {
   "cell_type": "markdown",
   "metadata": {},
   "source": [
    "### PID\n",
    "Implement PID in discrete time LTI form."
   ]
  },
  {
   "cell_type": "code",
   "execution_count": 189,
   "metadata": {
    "collapsed": true
   },
   "outputs": [],
   "source": [
    "# PID\n",
    "class PID:\n",
    "    def __init__(self, kp, ki, kd):\n",
    "        self.kp = kp\n",
    "        self.ki = ki\n",
    "        self.kd = kd\n",
    "        self.integral = 0\n",
    "        self.prev_error = 0\n",
    "        \n",
    "    def run(self, e, dt):\n",
    "        output = self.kp*e\n",
    "        self.integral += e*dt\n",
    "        output += self.ki*self.integral\n",
    "        output += self.kd*(e - self.prev_error)/dt\n",
    "        self.prev_error = e\n",
    "        \n",
    "        return output"
   ]
  },
  {
   "cell_type": "markdown",
   "metadata": {},
   "source": [
    "### Closed Loop System\n",
    "Create a function that takes two discrete time LTI systems and returns a negative closed loop system."
   ]
  },
  {
   "cell_type": "code",
   "execution_count": 180,
   "metadata": {},
   "outputs": [],
   "source": [
    "class ClosedLoop:\n",
    "    def __init__(self, s1, s2):\n",
    "        self.s1 = s1\n",
    "        self.s2 = s2\n",
    "        self.feedback = 0\n",
    "        \n",
    "    def run(self, r, dt):\n",
    "        e = r - self.feedback\n",
    "        #print(\"Error \" + str(e))\n",
    "        s1_output = s1.run(e,dt)\n",
    "        #print(\"s1 output \" + str(s1_output))\n",
    "        s1_output = np.array([[s1_output]])\n",
    "        s2_output = s2.run(s1_output,dt)\n",
    "        #print(\"s2 output \" + str(s2_output))\n",
    "        self.feedback = s2_output[0][0]\n",
    "        #print(\"x \" + str(s2.x) + \"\\n\")\n",
    "        return s2_output[0][0]"
   ]
  },
  {
   "cell_type": "markdown",
   "metadata": {},
   "source": [
    "### Testing"
   ]
  },
  {
   "cell_type": "code",
   "execution_count": 195,
   "metadata": {},
   "outputs": [
    {
     "data": {
      "image/png": "[encoded data removed]",
      "text/plain": [
       "<matplotlib.figure.Figure at 0x10dc94f98>"
      ]
     },
     "metadata": {},
     "output_type": "display_data"
    }
   ],
   "source": [
    "s1 = PID(0,10,0)\n",
    "s2 = StateSpace(2,1,1)\n",
    "s2.A[0,0] = 0\n",
    "s2.A[0,1] = 1\n",
    "s2.A[1,0] = -1\n",
    "s2.A[1,1] = -0.2\n",
    "\n",
    "s2.B[0,0] = 0\n",
    "s2.B[1,0] = 1\n",
    "\n",
    "s2.C[0,0] = 1\n",
    "\n",
    "closed_loop = ClosedLoop(s1,s2)\n",
    "\n",
    "x = []\n",
    "for i in range(20):\n",
    "    x += [closed_loop.run(1,.25)]\n",
    "    \n",
    "plt.plot(x)\n",
    "plt.show()"
   ]
  },
  {
   "cell_type": "markdown",
   "metadata": {},
   "source": [
    "### Kalman Decomposition"
   ]
  },
  {
   "cell_type": "code",
   "execution_count": null,
   "metadata": {
    "collapsed": true
   },
   "outputs": [],
   "source": []
  }
 ],
 "metadata": {
  "kernelspec": {
   "display_name": "Python 3",
   "language": "python",
   "name": "python3"
  },
  "language_info": {
   "codemirror_mode": {
    "name": "ipython",
    "version": 3
   },
   "file_extension": ".py",
   "mimetype": "text/x-python",
   "name": "python",
   "nbconvert_exporter": "python",
   "pygments_lexer": "ipython3",
   "version": "3.6.0"
  }
 },
 "nbformat": 4,
 "nbformat_minor": 2
}
